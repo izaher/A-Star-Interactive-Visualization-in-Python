{
 "cells": [
  {
   "cell_type": "markdown",
   "metadata": {},
   "source": [
    "## A* SEARCH ALGORITHM\n",
    "### An interactive visualization of the A* algorithm using PyGame in Python"
   ]
  },
  {
   "cell_type": "markdown",
   "metadata": {},
   "source": [
    "#### Importing necessary libraries"
   ]
  },
  {
   "cell_type": "code",
   "execution_count": 1,
   "metadata": {},
   "outputs": [
    {
     "name": "stdout",
     "output_type": "stream",
     "text": [
      "pygame 1.9.6\n",
      "Hello from the pygame community. https://www.pygame.org/contribute.html\n"
     ]
    }
   ],
   "source": [
    "import pygame\n",
    "import math\n",
    "from queue import PriorityQueue"
   ]
  },
  {
   "cell_type": "markdown",
   "metadata": {},
   "source": [
    "#### Setting the visualization environment using PyGame"
   ]
  },
  {
   "cell_type": "code",
   "execution_count": 2,
   "metadata": {},
   "outputs": [],
   "source": [
    "WIDTH = 800\n",
    "WIN = pygame.display.set_mode((WIDTH, WIDTH))\n",
    "pygame.display.set_caption('A*')"
   ]
  },
  {
   "cell_type": "markdown",
   "metadata": {},
   "source": [
    "## Node Class \n",
    "##### Defigning a node class so that every square on the grade can be seen as a node in a connected graph. This way we can track of where the node is (row, column), all it's neighbors, node properties (width, color, etc) so we can draw the \"graph\" on screen, etc."
   ]
  },
  {
   "cell_type": "code",
   "execution_count": 3,
   "metadata": {},
   "outputs": [],
   "source": [
    "#COLORS\n",
    "\n",
    "MINT = (199, 236, 143)\n",
    "L_GREEN = (75, 178, 173)\n",
    "DARK_BLUE = (47, 69, 102)\n",
    "WHITE= (255, 255, 255)\n",
    "TORQUIZE = (64, 224, 208)\n",
    "YELLOW =(255, 255, 0)\n",
    "RED = (255, 0, 0)\n",
    "GREY =(230, 230, 230)\n",
    "\n",
    "class Node:\n",
    "    def __init__(self, row, col, width, total_rows):\n",
    "        self.row = row\n",
    "        self.col = col\n",
    "        self.x = row * width\n",
    "        self.y = col * width\n",
    "        self.color = WHITE\n",
    "        self.neighbors = []\n",
    "        self.width = width\n",
    "        self.total_rows = total_rows\n",
    "        \n",
    "    def get_pos(self):\n",
    "        return self.row, self.col\n",
    "    \n",
    "    def is_closed(self):\n",
    "        return self.color == TORQUIZE\n",
    "    \n",
    "    def is_open(self):\n",
    "        return self.color == MINT\n",
    "    \n",
    "    def is_barrier(self):\n",
    "        return self.color == DARK_BLUE\n",
    "    \n",
    "    def is_start(self):\n",
    "        return self.color == L_GREEN\n",
    "    \n",
    "    def is_end(self):\n",
    "        return self.color == RED\n",
    "    \n",
    "    def reset(self):\n",
    "        self.color = WHITE\n",
    "    \n",
    "    def make_close(self):\n",
    "        self.color = TORQUIZE\n",
    "        \n",
    "    def make_open(self):\n",
    "        self.color = MINT\n",
    "        \n",
    "    def make_barrier(self):\n",
    "        self.color = DARK_BLUE\n",
    "        \n",
    "    def make_start(self):\n",
    "        self.color = L_GREEN\n",
    "    \n",
    "    def make_end(self):\n",
    "        self.color = RED\n",
    "        \n",
    "    def make_path(self):\n",
    "        self.color = YELLOW\n",
    "        \n",
    "    def draw(self, win):\n",
    "        pygame.draw.rect(win, self.color, (self.x, self.y, self.width, self.width))\n",
    "        \n",
    "    def update_neighbors(self, grid):\n",
    "        self.neighbors = []\n",
    "        if self.row < self.total_rows - 1 and not grid[self.row + 1][self.col].is_barrier(): #CHECK DOWN NEIGHBOR\n",
    "            self.neighbors.append(grid[self.row + 1][self.col])\n",
    "            \n",
    "        if self.row > 0 and not grid[self.row - 1][self.col].is_barrier(): #CHECK UP NEIGHBOR\n",
    "            self.neighbors.append(grid[self.row - 1][self.col])\n",
    "            \n",
    "        if self.col < self.total_rows - 1 and not grid[self.row][self.col + 1].is_barrier(): #CHECK RIGHT NEIGHBOR\n",
    "            self.neighbors.append(grid[self.row][self.col + 1])\n",
    "            \n",
    "        if self.col > 0 and not grid[self.row][self.col - 1].is_barrier(): #CHECK LEFT NEIGHBOR\n",
    "            self.neighbors.append(grid[self.row][self.col - 1])\n"
   ]
  },
  {
   "cell_type": "markdown",
   "metadata": {},
   "source": [
    "#### The update_neighbors method checks if an adjacent node of the current node is accessible (not a barrier)"
   ]
  },
  {
   "cell_type": "markdown",
   "metadata": {},
   "source": [
    "### Creating the main grid"
   ]
  },
  {
   "cell_type": "code",
   "execution_count": 4,
   "metadata": {},
   "outputs": [],
   "source": [
    "def make_grid(rows, width):\n",
    "    grid = []\n",
    "    gap = width // rows\n",
    "    for i in range(rows):\n",
    "        grid.append([])\n",
    "        for j in range(rows):\n",
    "            node = Node(i, j, gap, rows)\n",
    "            grid[i].append(node)\n",
    "            \n",
    "    return grid\n",
    "\n",
    "def draw_grid(win, rows, width):\n",
    "    gap = width // rows\n",
    "    for i in range(rows):\n",
    "        pygame.draw.line(win, GREY, (0, i * gap), (width, i * gap))\n",
    "        for j in range(rows):\n",
    "            pygame.draw.line(win, GREY, (j * gap, 0), (j * gap, width))\n",
    "\n",
    "def draw(win, grid, rows, width):\n",
    "    win.fill(WHITE)\n",
    "\n",
    "    for row in grid:\n",
    "        for node in row:\n",
    "            node.draw(win)\n",
    "\n",
    "    draw_grid(win, rows, width)\n",
    "    pygame.display.update()\n",
    "\n",
    "def get_clicked_position(pos, rows, width):\n",
    "    gap = width // rows\n",
    "    y, x = pos\n",
    "    row = y // gap\n",
    "    col = x // gap\n",
    "    \n",
    "    return row, col\n",
    "\n",
    "\n",
    "def reconstruct_path(came_from, current, draw):\n",
    "    while current in came_from:\n",
    "        current = came_from[current]\n",
    "        current.make_path()\n",
    "        draw()"
   ]
  },
  {
   "cell_type": "markdown",
   "metadata": {},
   "source": [
    "### The heuristic function calculates the distance betwwen two points (p1, p2) using Mangattan distance (L distance)\n",
    "<img src=\"heuristic_ex.jpg\">"
   ]
  },
  {
   "cell_type": "code",
   "execution_count": 5,
   "metadata": {},
   "outputs": [],
   "source": [
    "def h(p1, p2):\n",
    "    x1, y1 = p1\n",
    "    x2, y2 = p2\n",
    "    return abs(x1 - x2) + abs(y1 - y2)"
   ]
  },
  {
   "cell_type": "markdown",
   "metadata": {},
   "source": [
    "## A* algorithm\n",
    "#### references :\n",
    "\n",
    "1- https://en.wikipedia.org/wiki/A*_search_algorithm#Pseudocode \n",
    "\n",
    "2- https://www.youtube.com/watch?v=ySN5Wnu88nE&t=750s\n"
   ]
  },
  {
   "cell_type": "code",
   "execution_count": 6,
   "metadata": {},
   "outputs": [],
   "source": [
    "def algorithm(draw, grid, start, end):\n",
    "    count = 0\n",
    "    open_set = PriorityQueue()\n",
    "    open_set.put((0, count, start))\n",
    "    came_from = {}\n",
    "    g_score = {node : float('inf') for row in grid for node in row}\n",
    "    g_score[start] = 0\n",
    "    \n",
    "    f_score = {node : float('inf') for row in grid for node in row}\n",
    "    f_score[start] = h(start.get_pos(), end.get_pos())\n",
    "    \n",
    "    open_set_hash = {start}\n",
    "    \n",
    "    while not open_set.empty():\n",
    "        for event in pygame.event.get():\n",
    "            if event.type == pygame.QUIT:\n",
    "                pygame.quit()\n",
    "                \n",
    "        current = open_set.get()[2]\n",
    "        open_set_hash.remove(current)\n",
    "        \n",
    "        if current == end:\n",
    "            end.make_end()\n",
    "            reconstruct_path(came_from, end, draw)\n",
    "            start.make_start()\n",
    "            \n",
    "            \n",
    "            \n",
    "            return True\n",
    "        \n",
    "        for neighbor in current.neighbors:\n",
    "            temp_g_score = g_score[current] + 1\n",
    "            \n",
    "            if temp_g_score < g_score[neighbor]:\n",
    "                came_from[neighbor] = current\n",
    "                g_score[neighbor] = temp_g_score\n",
    "                f_score[neighbor] = temp_g_score + h(neighbor.get_pos(), end.get_pos())\n",
    "                if neighbor not in open_set_hash:\n",
    "                    count += 1\n",
    "                    open_set.put((f_score[neighbor], count, neighbor))\n",
    "                    open_set_hash.add(neighbor)\n",
    "                    neighbor.make_open()\n",
    "        draw()\n",
    "        \n",
    "        if current != start:\n",
    "            current.make_close()\n",
    "    \n",
    "    return False"
   ]
  },
  {
   "cell_type": "markdown",
   "metadata": {},
   "source": [
    "#### Setting the main \"game loop\"... this is pygame after all."
   ]
  },
  {
   "cell_type": "code",
   "execution_count": 7,
   "metadata": {},
   "outputs": [],
   "source": [
    "def main(win, width):\n",
    "    ROWS = 50\n",
    "    grid = make_grid(ROWS, width)\n",
    "    \n",
    "    start = None\n",
    "    end = None\n",
    "    run = True\n",
    "    \n",
    "    while run:\n",
    "        draw(win, grid, ROWS, width)\n",
    "        for event in pygame.event.get():\n",
    "            if event.type == pygame.QUIT:\n",
    "                run = False\n",
    "                \n",
    "\n",
    "            \n",
    "            if pygame.mouse.get_pressed()[0]: # LEFT\n",
    "                pos = pygame.mouse.get_pos()\n",
    "                row, col = get_clicked_position(pos, ROWS, width)\n",
    "                node = grid[row][col]\n",
    "                if not start and node != end:\n",
    "                    start = node\n",
    "                    start.make_start()\n",
    "\n",
    "                elif not end and node != start:\n",
    "                    end = node\n",
    "                    end.make_end()\n",
    "\n",
    "                elif node != end and node != start:\n",
    "                    node.make_barrier()\n",
    "\n",
    "            elif pygame.mouse.get_pressed()[2]: # RIGHT\n",
    "                pos = pygame.mouse.get_pos()\n",
    "                row, col = get_clicked_position(pos, ROWS, width)\n",
    "                node = grid[row][col]\n",
    "                node.reset()\n",
    "                if node == start:\n",
    "                    start = None\n",
    "                elif node == end:\n",
    "                    end = None\n",
    "            if event.type == pygame.KEYDOWN:\n",
    "                if event.key == pygame.K_SPACE and start and end:\n",
    "                    for row in grid:\n",
    "                        for node in row:\n",
    "                            node.update_neighbors(grid)\n",
    "                    algorithm(lambda: draw(win, grid, ROWS, width), grid, start, end)\n",
    "            \n",
    "                if event.key == pygame.K_r:\n",
    "                    start = None\n",
    "                    end = None\n",
    "                    grid = make_grid(ROWS, width)\n",
    "                    \n",
    "    pygame.quit()\n",
    "    \n",
    "main(WIN, WIDTH)    "
   ]
  }
 ],
 "metadata": {
  "kernelspec": {
   "display_name": "Python 3",
   "language": "python",
   "name": "python3"
  },
  "language_info": {
   "codemirror_mode": {
    "name": "ipython",
    "version": 3
   },
   "file_extension": ".py",
   "mimetype": "text/x-python",
   "name": "python",
   "nbconvert_exporter": "python",
   "pygments_lexer": "ipython3",
   "version": "3.7.6"
  }
 },
 "nbformat": 4,
 "nbformat_minor": 4
}
